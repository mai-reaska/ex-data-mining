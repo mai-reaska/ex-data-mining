{
 "cells": [
  {
   "cell_type": "code",
   "execution_count": 1,
   "id": "initial_id",
   "metadata": {
    "collapsed": true,
    "ExecuteTime": {
     "end_time": "2023-12-12T06:00:43.170674Z",
     "start_time": "2023-12-12T06:00:42.564244500Z"
    }
   },
   "outputs": [],
   "source": [
    "import pandas as pd"
   ]
  },
  {
   "cell_type": "code",
   "execution_count": 2,
   "outputs": [],
   "source": [
    "data = pd.read_csv('HomeWorkDataSet.csv')"
   ],
   "metadata": {
    "collapsed": false,
    "ExecuteTime": {
     "end_time": "2023-12-12T06:00:43.178853900Z",
     "start_time": "2023-12-12T06:00:43.166523400Z"
    }
   },
   "id": "5139f9ea6be1d15"
  },
  {
   "cell_type": "code",
   "execution_count": 3,
   "outputs": [],
   "source": [
    "# Split Criterion: Gender\n",
    "gender_counts = data['Gender'].value_counts()\n",
    "gender_total = len(data)\n",
    "gender_gini = 1 - ((gender_counts['M'] / gender_total) ** 2) - ((gender_counts['F'] / gender_total) ** 2)\n",
    "gender_weighted_gini = (gender_counts['M'] / gender_total) * gender_gini + (gender_counts['F'] / gender_total) * gender_gini"
   ],
   "metadata": {
    "collapsed": false,
    "ExecuteTime": {
     "end_time": "2023-12-12T06:00:43.189877300Z",
     "start_time": "2023-12-12T06:00:43.178853900Z"
    }
   },
   "id": "9df3c6148f1c7995"
  },
  {
   "cell_type": "code",
   "execution_count": 4,
   "outputs": [],
   "source": [
    "# Split Criterion: Car type\n",
    "car_type_counts = data['Car_type'].value_counts()\n",
    "car_type_total = len(data)\n",
    "car_type_gini = 1 - ((car_type_counts['Family'] / car_type_total) ** 2) - ((car_type_counts['Sports'] / car_type_total) ** 2) - ((car_type_counts['Luxury'] / car_type_total) ** 2)\n",
    "car_type_weighted_gini = (car_type_counts['Family'] / car_type_total) * car_type_gini + (car_type_counts['Sports'] / car_type_total) * car_type_gini + (car_type_counts['Luxury'] / car_type_total) * car_type_gini"
   ],
   "metadata": {
    "collapsed": false,
    "ExecuteTime": {
     "end_time": "2023-12-12T06:00:43.197717900Z",
     "start_time": "2023-12-12T06:00:43.189877300Z"
    }
   },
   "id": "5462c21fd486e3c3"
  },
  {
   "cell_type": "code",
   "execution_count": 5,
   "outputs": [],
   "source": [
    "# Split Criterion: Shirt Size\n",
    "shirt_size_counts = data['Shirt_Size'].value_counts()\n",
    "shirt_size_total = len(data)\n",
    "shirt_size_gini = 1 - ((shirt_size_counts['Small'] / shirt_size_total) ** 2) - ((shirt_size_counts['Medium'] / shirt_size_total) ** 2) - ((shirt_size_counts['Large'] / shirt_size_total) ** 2) - ((shirt_size_counts['Extra Large'] / shirt_size_total) ** 2)\n",
    "shirt_size_weighted_gini = (shirt_size_counts['Small'] / shirt_size_total) * shirt_size_gini + (shirt_size_counts['Medium'] / shirt_size_total) * shirt_size_gini + (shirt_size_counts['Large'] / shirt_size_total) * shirt_size_gini + (shirt_size_counts['Extra Large'] / shirt_size_total) * shirt_size_gini"
   ],
   "metadata": {
    "collapsed": false,
    "ExecuteTime": {
     "end_time": "2023-12-12T06:00:43.219166Z",
     "start_time": "2023-12-12T06:00:43.197717900Z"
    }
   },
   "id": "b3031cffe355b86c"
  },
  {
   "cell_type": "code",
   "execution_count": 6,
   "outputs": [
    {
     "name": "stdout",
     "output_type": "stream",
     "text": [
      "Gini Index for Gender: 0.5\n",
      "Gini Index for Car type: 0.6399999999999999\n",
      "Gini Index for Shirt Size: 0.735\n"
     ]
    }
   ],
   "source": [
    "print(\"Gini Index for Gender:\", gender_weighted_gini)\n",
    "print(\"Gini Index for Car type:\", car_type_weighted_gini)\n",
    "print(\"Gini Index for Shirt Size:\", shirt_size_weighted_gini)"
   ],
   "metadata": {
    "collapsed": false,
    "ExecuteTime": {
     "end_time": "2023-12-12T06:00:43.219166Z",
     "start_time": "2023-12-12T06:00:43.205160200Z"
    }
   },
   "id": "46a436e82526caf0"
  }
 ],
 "metadata": {
  "kernelspec": {
   "display_name": "Python 3",
   "language": "python",
   "name": "python3"
  },
  "language_info": {
   "codemirror_mode": {
    "name": "ipython",
    "version": 2
   },
   "file_extension": ".py",
   "mimetype": "text/x-python",
   "name": "python",
   "nbconvert_exporter": "python",
   "pygments_lexer": "ipython2",
   "version": "2.7.6"
  }
 },
 "nbformat": 4,
 "nbformat_minor": 5
}
