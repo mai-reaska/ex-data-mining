{
 "cells": [
  {
   "cell_type": "markdown",
   "id": "ee18185f",
   "metadata": {},
   "source": [
    "### Homework 1\n",
    "#### Group 3:\n",
    "- Chantrea Sotheareach\n",
    "- Kun Manithyalise\n",
    "- Mai Reaksa\n",
    "- Song Lyly"
   ]
  },
  {
   "cell_type": "code",
   "execution_count": 1,
   "id": "initial_id",
   "metadata": {
    "ExecuteTime": {
     "end_time": "2023-12-12T06:00:43.170674Z",
     "start_time": "2023-12-12T06:00:42.564244500Z"
    },
    "collapsed": true
   },
   "outputs": [],
   "source": [
    "import pandas as pd"
   ]
  },
  {
   "cell_type": "code",
   "execution_count": 3,
   "id": "5139f9ea6be1d15",
   "metadata": {
    "ExecuteTime": {
     "end_time": "2023-12-12T06:00:43.178853900Z",
     "start_time": "2023-12-12T06:00:43.166523400Z"
    },
    "collapsed": false
   },
   "outputs": [],
   "source": [
    "data = pd.read_csv('./data/Dataset.csv')"
   ]
  },
  {
   "cell_type": "code",
   "execution_count": 4,
   "id": "d7430ea2",
   "metadata": {},
   "outputs": [
    {
     "data": {
      "text/html": [
       "<div>\n",
       "<style scoped>\n",
       "    .dataframe tbody tr th:only-of-type {\n",
       "        vertical-align: middle;\n",
       "    }\n",
       "\n",
       "    .dataframe tbody tr th {\n",
       "        vertical-align: top;\n",
       "    }\n",
       "\n",
       "    .dataframe thead th {\n",
       "        text-align: right;\n",
       "    }\n",
       "</style>\n",
       "<table border=\"1\" class=\"dataframe\">\n",
       "  <thead>\n",
       "    <tr style=\"text-align: right;\">\n",
       "      <th></th>\n",
       "      <th>Customer_Id</th>\n",
       "      <th>Gender</th>\n",
       "      <th>Car_type</th>\n",
       "      <th>Shirt_Size</th>\n",
       "      <th>Class</th>\n",
       "    </tr>\n",
       "  </thead>\n",
       "  <tbody>\n",
       "    <tr>\n",
       "      <th>0</th>\n",
       "      <td>1</td>\n",
       "      <td>M</td>\n",
       "      <td>Family</td>\n",
       "      <td>Small</td>\n",
       "      <td>C0</td>\n",
       "    </tr>\n",
       "    <tr>\n",
       "      <th>1</th>\n",
       "      <td>2</td>\n",
       "      <td>M</td>\n",
       "      <td>Sports</td>\n",
       "      <td>Medium</td>\n",
       "      <td>C0</td>\n",
       "    </tr>\n",
       "    <tr>\n",
       "      <th>2</th>\n",
       "      <td>3</td>\n",
       "      <td>M</td>\n",
       "      <td>Sports</td>\n",
       "      <td>Medium</td>\n",
       "      <td>C0</td>\n",
       "    </tr>\n",
       "    <tr>\n",
       "      <th>3</th>\n",
       "      <td>4</td>\n",
       "      <td>M</td>\n",
       "      <td>Sports</td>\n",
       "      <td>Large</td>\n",
       "      <td>C0</td>\n",
       "    </tr>\n",
       "    <tr>\n",
       "      <th>4</th>\n",
       "      <td>5</td>\n",
       "      <td>M</td>\n",
       "      <td>Sports</td>\n",
       "      <td>Extra Large</td>\n",
       "      <td>C0</td>\n",
       "    </tr>\n",
       "    <tr>\n",
       "      <th>5</th>\n",
       "      <td>6</td>\n",
       "      <td>M</td>\n",
       "      <td>Sports</td>\n",
       "      <td>Extra Large</td>\n",
       "      <td>C0</td>\n",
       "    </tr>\n",
       "    <tr>\n",
       "      <th>6</th>\n",
       "      <td>7</td>\n",
       "      <td>F</td>\n",
       "      <td>Sports</td>\n",
       "      <td>Small</td>\n",
       "      <td>C0</td>\n",
       "    </tr>\n",
       "    <tr>\n",
       "      <th>7</th>\n",
       "      <td>8</td>\n",
       "      <td>F</td>\n",
       "      <td>Sports</td>\n",
       "      <td>Small</td>\n",
       "      <td>C0</td>\n",
       "    </tr>\n",
       "    <tr>\n",
       "      <th>8</th>\n",
       "      <td>9</td>\n",
       "      <td>F</td>\n",
       "      <td>Sports</td>\n",
       "      <td>Medium</td>\n",
       "      <td>C0</td>\n",
       "    </tr>\n",
       "    <tr>\n",
       "      <th>9</th>\n",
       "      <td>10</td>\n",
       "      <td>F</td>\n",
       "      <td>Luxury</td>\n",
       "      <td>Large</td>\n",
       "      <td>C1</td>\n",
       "    </tr>\n",
       "    <tr>\n",
       "      <th>10</th>\n",
       "      <td>11</td>\n",
       "      <td>M</td>\n",
       "      <td>Family</td>\n",
       "      <td>Large</td>\n",
       "      <td>C1</td>\n",
       "    </tr>\n",
       "    <tr>\n",
       "      <th>11</th>\n",
       "      <td>12</td>\n",
       "      <td>M</td>\n",
       "      <td>Family</td>\n",
       "      <td>Extra Large</td>\n",
       "      <td>C1</td>\n",
       "    </tr>\n",
       "    <tr>\n",
       "      <th>12</th>\n",
       "      <td>13</td>\n",
       "      <td>M</td>\n",
       "      <td>Family</td>\n",
       "      <td>Medium</td>\n",
       "      <td>C1</td>\n",
       "    </tr>\n",
       "    <tr>\n",
       "      <th>13</th>\n",
       "      <td>14</td>\n",
       "      <td>M</td>\n",
       "      <td>Luxury</td>\n",
       "      <td>Extra Large</td>\n",
       "      <td>C1</td>\n",
       "    </tr>\n",
       "    <tr>\n",
       "      <th>14</th>\n",
       "      <td>15</td>\n",
       "      <td>F</td>\n",
       "      <td>Luxury</td>\n",
       "      <td>Small</td>\n",
       "      <td>C1</td>\n",
       "    </tr>\n",
       "    <tr>\n",
       "      <th>15</th>\n",
       "      <td>16</td>\n",
       "      <td>F</td>\n",
       "      <td>Luxury</td>\n",
       "      <td>Small</td>\n",
       "      <td>C1</td>\n",
       "    </tr>\n",
       "    <tr>\n",
       "      <th>16</th>\n",
       "      <td>17</td>\n",
       "      <td>F</td>\n",
       "      <td>Luxury</td>\n",
       "      <td>Medium</td>\n",
       "      <td>C1</td>\n",
       "    </tr>\n",
       "    <tr>\n",
       "      <th>17</th>\n",
       "      <td>18</td>\n",
       "      <td>F</td>\n",
       "      <td>Luxury</td>\n",
       "      <td>Medium</td>\n",
       "      <td>C1</td>\n",
       "    </tr>\n",
       "    <tr>\n",
       "      <th>18</th>\n",
       "      <td>19</td>\n",
       "      <td>F</td>\n",
       "      <td>Luxury</td>\n",
       "      <td>Medium</td>\n",
       "      <td>C1</td>\n",
       "    </tr>\n",
       "    <tr>\n",
       "      <th>19</th>\n",
       "      <td>20</td>\n",
       "      <td>F</td>\n",
       "      <td>Luxury</td>\n",
       "      <td>Large</td>\n",
       "      <td>C1</td>\n",
       "    </tr>\n",
       "  </tbody>\n",
       "</table>\n",
       "</div>"
      ],
      "text/plain": [
       "    Customer_Id Gender Car_type   Shirt_Size Class\n",
       "0             1      M   Family        Small    C0\n",
       "1             2      M   Sports       Medium    C0\n",
       "2             3      M   Sports       Medium    C0\n",
       "3             4      M   Sports        Large    C0\n",
       "4             5      M   Sports  Extra Large    C0\n",
       "5             6      M   Sports  Extra Large    C0\n",
       "6             7      F   Sports        Small    C0\n",
       "7             8      F   Sports        Small    C0\n",
       "8             9      F   Sports       Medium    C0\n",
       "9            10      F   Luxury        Large    C1\n",
       "10           11      M   Family        Large    C1\n",
       "11           12      M   Family  Extra Large    C1\n",
       "12           13      M   Family       Medium    C1\n",
       "13           14      M   Luxury  Extra Large    C1\n",
       "14           15      F   Luxury        Small    C1\n",
       "15           16      F   Luxury        Small    C1\n",
       "16           17      F   Luxury       Medium    C1\n",
       "17           18      F   Luxury       Medium    C1\n",
       "18           19      F   Luxury       Medium    C1\n",
       "19           20      F   Luxury        Large    C1"
      ]
     },
     "execution_count": 4,
     "metadata": {},
     "output_type": "execute_result"
    }
   ],
   "source": [
    "data"
   ]
  },
  {
   "cell_type": "code",
   "execution_count": 5,
   "id": "9df3c6148f1c7995",
   "metadata": {
    "ExecuteTime": {
     "end_time": "2023-12-12T06:00:43.189877300Z",
     "start_time": "2023-12-12T06:00:43.178853900Z"
    },
    "collapsed": false
   },
   "outputs": [],
   "source": [
    "# Split Criterion: Gender\n",
    "gender_counts = data['Gender'].value_counts()\n",
    "gender_total = len(data)\n",
    "gender_gini = 1 - ((gender_counts['M'] / gender_total) ** 2) - ((gender_counts['F'] / gender_total) ** 2)\n",
    "gender_weighted_gini = (gender_counts['M'] / gender_total) * gender_gini + (gender_counts['F'] / gender_total) * gender_gini"
   ]
  },
  {
   "cell_type": "code",
   "execution_count": 6,
   "id": "5462c21fd486e3c3",
   "metadata": {
    "ExecuteTime": {
     "end_time": "2023-12-12T06:00:43.197717900Z",
     "start_time": "2023-12-12T06:00:43.189877300Z"
    },
    "collapsed": false
   },
   "outputs": [],
   "source": [
    "# Split Criterion: Car type\n",
    "car_type_counts = data['Car_type'].value_counts()\n",
    "car_type_total = len(data)\n",
    "car_type_gini = 1 - ((car_type_counts['Family'] / car_type_total) ** 2) - ((car_type_counts['Sports'] / car_type_total) ** 2) - ((car_type_counts['Luxury'] / car_type_total) ** 2)\n",
    "car_type_weighted_gini = (car_type_counts['Family'] / car_type_total) * car_type_gini + (car_type_counts['Sports'] / car_type_total) * car_type_gini + (car_type_counts['Luxury'] / car_type_total) * car_type_gini"
   ]
  },
  {
   "cell_type": "code",
   "execution_count": 7,
   "id": "b3031cffe355b86c",
   "metadata": {
    "ExecuteTime": {
     "end_time": "2023-12-12T06:00:43.219166Z",
     "start_time": "2023-12-12T06:00:43.197717900Z"
    },
    "collapsed": false
   },
   "outputs": [],
   "source": [
    "# Split Criterion: Shirt Size\n",
    "shirt_size_counts = data['Shirt_Size'].value_counts()\n",
    "shirt_size_total = len(data)\n",
    "shirt_size_gini = 1 - ((shirt_size_counts['Small'] / shirt_size_total) ** 2) - ((shirt_size_counts['Medium'] / shirt_size_total) ** 2) - ((shirt_size_counts['Large'] / shirt_size_total) ** 2) - ((shirt_size_counts['Extra Large'] / shirt_size_total) ** 2)\n",
    "shirt_size_weighted_gini = (shirt_size_counts['Small'] / shirt_size_total) * shirt_size_gini + (shirt_size_counts['Medium'] / shirt_size_total) * shirt_size_gini + (shirt_size_counts['Large'] / shirt_size_total) * shirt_size_gini + (shirt_size_counts['Extra Large'] / shirt_size_total) * shirt_size_gini"
   ]
  },
  {
   "cell_type": "code",
   "execution_count": 8,
   "id": "46a436e82526caf0",
   "metadata": {
    "ExecuteTime": {
     "end_time": "2023-12-12T06:00:43.219166Z",
     "start_time": "2023-12-12T06:00:43.205160200Z"
    },
    "collapsed": false
   },
   "outputs": [
    {
     "name": "stdout",
     "output_type": "stream",
     "text": [
      "Gini Index for Gender: 0.5\n",
      "Gini Index for Car type: 0.6399999999999999\n",
      "Gini Index for Shirt Size: 0.735\n"
     ]
    }
   ],
   "source": [
    "print(\"Gini Index for Gender:\", gender_weighted_gini)\n",
    "print(\"Gini Index for Car type:\", car_type_weighted_gini)\n",
    "print(\"Gini Index for Shirt Size:\", shirt_size_weighted_gini)"
   ]
  }
 ],
 "metadata": {
  "kernelspec": {
   "display_name": "Python 3",
   "language": "python",
   "name": "python3"
  },
  "language_info": {
   "codemirror_mode": {
    "name": "ipython",
    "version": 3
   },
   "file_extension": ".py",
   "mimetype": "text/x-python",
   "name": "python",
   "nbconvert_exporter": "python",
   "pygments_lexer": "ipython3",
   "version": "3.11.4"
  }
 },
 "nbformat": 4,
 "nbformat_minor": 5
}
