{
 "cells": [
  {
   "cell_type": "markdown",
   "metadata": {},
   "source": [
    "### II. Compute Gini Index of Continuous Attribute.\n",
    "##### 1) Compute Gini Index using the given split values: 55, 65, 72, 80, 87, 92, 97, 100, 122, 172,230\n",
    "##### 2) Which threshold value provides the best split?\n"
   ]
  },
  {
   "cell_type": "code",
   "execution_count": 1,
   "metadata": {},
   "outputs": [],
   "source": [
    "import numpy as np"
   ]
  },
  {
   "cell_type": "code",
   "execution_count": 2,
   "metadata": {},
   "outputs": [],
   "source": [
    "# Given split values\n",
    "split_values = [55, 65, 72, 80, 87, 92, 97, 100, 122, 172, 230]\n",
    "classes = ['C0', 'C1']  # Assuming two classes"
   ]
  },
  {
   "cell_type": "code",
   "execution_count": 3,
   "metadata": {},
   "outputs": [],
   "source": [
    "# Calculate Gini Index for each split\n",
    "best_gini_index = float('inf')\n",
    "best_threshold = None"
   ]
  },
  {
   "cell_type": "code",
   "execution_count": 5,
   "metadata": {},
   "outputs": [],
   "source": [
    "for threshold in split_values:\n",
    "    left_class_counts = [0, 0]  # Class counts for the left subset\n",
    "    right_class_counts = [0, 0]  # Class counts for the right subset\n",
    "    left_total = 0\n",
    "    right_total = 0\n",
    "\n",
    "    # Count the occurrences of each class in the left and right subsets\n",
    "    for value in split_values:\n",
    "        if value <= threshold:\n",
    "            index = 0\n",
    "        else:\n",
    "            index = 1\n",
    "        for class_index, class_label in enumerate(classes):\n",
    "            if class_label == 'C0':\n",
    "                left_class_counts[class_index] += 1\n",
    "                left_total += 1\n",
    "            else:\n",
    "                right_class_counts[class_index] += 1\n",
    "                right_total += 1\n",
    "\n",
    "    # Calculate Gini Index for the split\n",
    "    left_gini = 1 - np.sum((np.array(left_class_counts) / left_total) ** 2)\n",
    "    right_gini = 1 - np.sum((np.array(right_class_counts) / right_total) ** 2)\n",
    "    total_gini = (left_total / len(split_values)) * left_gini + (right_total / len(split_values)) * right_gini\n",
    "\n",
    "    # Update the best threshold if a lower Gini Index is found\n",
    "    if total_gini < best_gini_index:\n",
    "        best_gini_index = total_gini\n",
    "        best_threshold = threshold\n"
   ]
  },
  {
   "cell_type": "code",
   "execution_count": 6,
   "metadata": {},
   "outputs": [
    {
     "name": "stdout",
     "output_type": "stream",
     "text": [
      "Gini Index for each split:\n",
      "Threshold: 55 - Gini Index: 0.0\n",
      "Threshold: 65 - Gini Index: 0.0\n",
      "Threshold: 72 - Gini Index: 0.0\n",
      "Threshold: 80 - Gini Index: 0.0\n",
      "Threshold: 87 - Gini Index: 0.0\n",
      "Threshold: 92 - Gini Index: 0.0\n",
      "Threshold: 97 - Gini Index: 0.0\n",
      "Threshold: 100 - Gini Index: 0.0\n",
      "Threshold: 122 - Gini Index: 0.0\n",
      "Threshold: 172 - Gini Index: 0.0\n",
      "Threshold: 230 - Gini Index: 0.0\n",
      "\n",
      "Best Threshold: 55\n"
     ]
    }
   ],
   "source": [
    "# Print the Gini Index for each split and the best threshold\n",
    "print(\"Gini Index for each split:\")\n",
    "for index, threshold in enumerate(split_values):\n",
    "    print(f\"Threshold: {threshold} - Gini Index: {best_gini_index}\")\n",
    "\n",
    "print(\"\\nBest Threshold:\", best_threshold)"
   ]
  }
 ],
 "metadata": {
  "kernelspec": {
   "display_name": "Python 3",
   "language": "python",
   "name": "python3"
  },
  "language_info": {
   "codemirror_mode": {
    "name": "ipython",
    "version": 3
   },
   "file_extension": ".py",
   "mimetype": "text/x-python",
   "name": "python",
   "nbconvert_exporter": "python",
   "pygments_lexer": "ipython3",
   "version": "3.11.4"
  }
 },
 "nbformat": 4,
 "nbformat_minor": 2
}
