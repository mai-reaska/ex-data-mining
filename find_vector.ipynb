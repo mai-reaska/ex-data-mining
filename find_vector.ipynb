{
 "cells": [
  {
   "cell_type": "markdown",
   "metadata": {},
   "source": [
    "### Homework 2\n",
    "#### Group 3:\n",
    "- Chantrea Sotheareach\n",
    "- Kun Manithyalise\n",
    "- Mai Reaksa\n",
    "- Song Lyly"
   ]
  },
  {
   "cell_type": "code",
   "execution_count": 2,
   "metadata": {},
   "outputs": [],
   "source": [
    "import numpy as np\n",
    "import scipy as sp"
   ]
  },
  {
   "cell_type": "code",
   "execution_count": 41,
   "metadata": {},
   "outputs": [],
   "source": [
    "from scipy.spatial import distance\n",
    "from numpy.linalg import norm\n",
    "from sklearn.metrics import jaccard_score"
   ]
  },
  {
   "cell_type": "code",
   "execution_count": 20,
   "metadata": {},
   "outputs": [],
   "source": [
    "dataset_x = np.array([0, 3, 4, 5])\n",
    "dataset_y = np.array([7, 6, 3, -1])"
   ]
  },
  {
   "cell_type": "markdown",
   "metadata": {},
   "source": [
    "Eculidean distance"
   ]
  },
  {
   "cell_type": "code",
   "execution_count": 15,
   "metadata": {},
   "outputs": [
    {
     "data": {
      "text/plain": [
       "9.746794344808963"
      ]
     },
     "execution_count": 15,
     "metadata": {},
     "output_type": "execute_result"
    }
   ],
   "source": [
    "# Using python find Eculidean distance\n",
    "def eculidean_distance(x, y):\n",
    "    poin = np.sum((x - y) ** 2)\n",
    "    dis = np.sqrt(poin)\n",
    "    return dis\n",
    "eculidean_distance(dataset_x, dataset_y)"
   ]
  },
  {
   "cell_type": "code",
   "execution_count": 6,
   "metadata": {},
   "outputs": [
    {
     "data": {
      "text/plain": [
       "9.746794344808963"
      ]
     },
     "execution_count": 6,
     "metadata": {},
     "output_type": "execute_result"
    }
   ],
   "source": [
    "# Using enclidean class \n",
    "eculiden_dis  = distance.euclidean(dataset_x, dataset_y)\n",
    "eculiden_dis"
   ]
  },
  {
   "cell_type": "markdown",
   "metadata": {},
   "source": [
    "Manhattan distance"
   ]
  },
  {
   "cell_type": "code",
   "execution_count": 9,
   "metadata": {},
   "outputs": [
    {
     "data": {
      "text/plain": [
       "17"
      ]
     },
     "execution_count": 9,
     "metadata": {},
     "output_type": "execute_result"
    }
   ],
   "source": [
    "# Use python algorithm claculate mahatta distance\n",
    "def manhattan_distance(x, y):\n",
    "    return sum(abs(x - y) for x , y in zip(x , y))\n",
    "\n",
    "manhattan_distance(dataset_x, dataset_y)"
   ]
  },
  {
   "cell_type": "code",
   "execution_count": 10,
   "metadata": {},
   "outputs": [
    {
     "data": {
      "text/plain": [
       "17"
      ]
     },
     "execution_count": 10,
     "metadata": {},
     "output_type": "execute_result"
    }
   ],
   "source": [
    "# Using cityblock class\n",
    "manhattan_dis = distance.cityblock(dataset_x, dataset_y)\n",
    "manhattan_dis"
   ]
  },
  {
   "cell_type": "markdown",
   "metadata": {},
   "source": [
    "Cosine similarity"
   ]
  },
  {
   "cell_type": "code",
   "execution_count": 22,
   "metadata": {},
   "outputs": [
    {
     "data": {
      "text/plain": [
       "0.6372618749449941"
      ]
     },
     "execution_count": 22,
     "metadata": {},
     "output_type": "execute_result"
    }
   ],
   "source": [
    "# Use python algorithm claculate cosine similarity\n",
    "def cosine_simalarity(x, y):\n",
    "    if len(x) != len(y):\n",
    "        return \"dataset must be same index! Please check dataset agin\"\n",
    "    consine_similor = 1.0 - np.dot(x , y)/(norm(x) * norm(y))\n",
    "    return consine_similor\n",
    "\n",
    "cosine_simalarity(dataset_x, dataset_y)"
   ]
  },
  {
   "cell_type": "code",
   "execution_count": 21,
   "metadata": {},
   "outputs": [
    {
     "data": {
      "text/plain": [
       "0.6372618749449942"
      ]
     },
     "execution_count": 21,
     "metadata": {},
     "output_type": "execute_result"
    }
   ],
   "source": [
    "# Using cosin class api\n",
    "cosine_dis = distance.cosine(dataset_x, dataset_y)\n",
    "cosine_dis"
   ]
  },
  {
   "cell_type": "markdown",
   "metadata": {},
   "source": [
    "Jaccard similarity"
   ]
  },
  {
   "cell_type": "code",
   "execution_count": 26,
   "metadata": {},
   "outputs": [
    {
     "data": {
      "text/plain": [
       "1.0"
      ]
     },
     "execution_count": 26,
     "metadata": {},
     "output_type": "execute_result"
    }
   ],
   "source": [
    "# Use python algorithm claculate Jaccard similarity\n",
    "def jaccard_similiraty(x, y):\n",
    "    intersection_set = np.double(np.bitwise_and((x != y), np.bitwise_or(x != 0, y != 0)).sum())\n",
    "    union_set = np.double(np.bitwise_or(x != 0, y != 0).sum())\n",
    "    dis = intersection_set / union_set\n",
    "    return dis\n",
    "\n",
    "jaccard_similiraty(dataset_x, dataset_y)"
   ]
  },
  {
   "cell_type": "code",
   "execution_count": 27,
   "metadata": {},
   "outputs": [
    {
     "data": {
      "text/plain": [
       "1.0"
      ]
     },
     "execution_count": 27,
     "metadata": {},
     "output_type": "execute_result"
    }
   ],
   "source": [
    "# Using jaccard \n",
    "jaccard_disin = distance.jaccard(dataset_x, dataset_y)\n",
    "jaccard_disin"
   ]
  },
  {
   "cell_type": "markdown",
   "metadata": {},
   "source": [
    "SMC & JC calculate the similarity binary vector"
   ]
  },
  {
   "cell_type": "code",
   "execution_count": 42,
   "metadata": {},
   "outputs": [],
   "source": [
    "v_x = np.array([1, 0, 0, 0, 0, 0, 0, 0, 0, 0])\n",
    "v_y = np.array([0, 0, 0, 0, 0, 0, 1, 0, 0, 1])"
   ]
  },
  {
   "cell_type": "markdown",
   "metadata": {},
   "source": [
    "JC Binary similarity binary vector"
   ]
  },
  {
   "cell_type": "code",
   "execution_count": 43,
   "metadata": {},
   "outputs": [
    {
     "data": {
      "text/plain": [
       "0.0"
      ]
     },
     "execution_count": 43,
     "metadata": {},
     "output_type": "execute_result"
    }
   ],
   "source": [
    "# Fine JC binary vetor in python\n",
    "def jaccard_binary_dis(dataX, dataY):\n",
    "    intersection = np.logical_and(dataX,dataY)\n",
    "    unoin = np.logical_or(dataX,dataY)\n",
    "    similarity = intersection.sum() / float(unoin.sum())\n",
    "    return similarity\n",
    "jaccard_binary_dis(v_x, v_y)"
   ]
  },
  {
   "cell_type": "code",
   "execution_count": 45,
   "metadata": {},
   "outputs": [
    {
     "data": {
      "text/plain": [
       "0.0"
      ]
     },
     "execution_count": 45,
     "metadata": {},
     "output_type": "execute_result"
    }
   ],
   "source": [
    "# Using jaccard_score class api in sklearn\n",
    "jc_dis = jaccard_score(v_x, v_y)\n",
    "jc_dis"
   ]
  },
  {
   "cell_type": "markdown",
   "metadata": {},
   "source": [
    "SMC similarity binary vector"
   ]
  },
  {
   "cell_type": "code",
   "execution_count": 47,
   "metadata": {},
   "outputs": [
    {
     "data": {
      "text/plain": [
       "0.7"
      ]
     },
     "execution_count": 47,
     "metadata": {},
     "output_type": "execute_result"
    }
   ],
   "source": [
    "# Fine SMC binary vetor in python\n",
    "def smc_dis(x, y):\n",
    "    zip_x_y = list(zip(x,y,))\n",
    "\n",
    "    # declare number of attribute\n",
    "    f_0_1 = 0\n",
    "    f_1_0 = 0\n",
    "    f_0_0 = 0\n",
    "    f_1_1 = 0\n",
    "  \n",
    "    # compare list of tuples\n",
    "    for i in range(0,len(zip_x_y)):\n",
    "        if(zip_x_y[i][0]==0 and zip_x_y[i][1]==1):\n",
    "            f_0_1+=1\n",
    "        elif(zip_x_y[i][0]==1 and zip_x_y[i][1]==0):\n",
    "            f_1_0+=1\n",
    "        elif(zip_x_y[i][0]==0 and zip_x_y[i][1]==0):\n",
    "            f_0_0+=1\n",
    "        elif(zip_x_y[i][0]==1 and zip_x_y[i][1]==1):\n",
    "            f_1_1+=1\n",
    "    smc = (f_1_1+f_0_0)/(f_0_0+f_0_1+f_1_0)\n",
    "    return smc\n",
    "smc_dis(v_x, v_y)\n"
   ]
  },
  {
   "cell_type": "code",
   "execution_count": null,
   "metadata": {},
   "outputs": [],
   "source": []
  }
 ],
 "metadata": {
  "kernelspec": {
   "display_name": "evnv",
   "language": "python",
   "name": "python3"
  },
  "language_info": {
   "codemirror_mode": {
    "name": "ipython",
    "version": 3
   },
   "file_extension": ".py",
   "mimetype": "text/x-python",
   "name": "python",
   "nbconvert_exporter": "python",
   "pygments_lexer": "ipython3",
   "version": "3.10.12"
  },
  "orig_nbformat": 4
 },
 "nbformat": 4,
 "nbformat_minor": 2
}
